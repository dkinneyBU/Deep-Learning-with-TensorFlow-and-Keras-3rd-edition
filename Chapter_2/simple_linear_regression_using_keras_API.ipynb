{
  "cells": [
    {
      "cell_type": "code",
      "execution_count": 2,
      "metadata": {
        "id": "dSwpGifpB7W9"
      },
      "outputs": [],
      "source": [
        "import tensorflow as tf\n",
        "import numpy as np\n",
        "import matplotlib.pyplot as plt\n",
        "import pandas as pd\n",
        "import tensorflow.keras as K\n",
        "from tensorflow.keras.layers import Dense"
      ]
    },
    {
      "cell_type": "code",
      "execution_count": 3,
      "metadata": {
        "colab": {
          "base_uri": "https://localhost:8080/",
          "height": 265
        },
        "id": "t5PZJH8iCFma",
        "outputId": "b9a83c8d-1d29-4f91-cbcc-e642a1d5b17c"
      },
      "outputs": [
        {
          "data": {
            "image/png": "[encoded data removed]",
            "text/plain": [
              "<Figure size 640x480 with 1 Axes>"
            ]
          },
          "metadata": {},
          "output_type": "display_data"
        }
      ],
      "source": [
        "#Generate a random data\n",
        "np.random.seed(0)\n",
        "area = 2.5 * np.random.randn(100) + 25\n",
        "price = 25 * area + 5 + np.random.randint(20,50, size = len(area))\n",
        "data = np.array([area, price])\n",
        "data = pd.DataFrame(data = data.T, columns=['area','price'])\n",
        "plt.scatter(data['area'], data['price'])\n",
        "plt.show()"
      ]
    },
    {
      "cell_type": "code",
      "execution_count": 4,
      "metadata": {
        "id": "_1MDPuLTW2Wy"
      },
      "outputs": [],
      "source": [
        "data = (data - data.min()) / (data.max() - data.min())  #Normalize"
      ]
    },
    {
      "cell_type": "code",
      "execution_count": 5,
      "metadata": {
        "colab": {
          "base_uri": "https://localhost:8080/"
        },
        "id": "vfy1amXuCHBD",
        "outputId": "47165844-9e3b-481a-d156-5346961f8688"
      },
      "outputs": [
        {
          "name": "stderr",
          "output_type": "stream",
          "text": [
            "2023-12-30 12:18:46.707324: I external/local_xla/xla/stream_executor/cuda/cuda_executor.cc:887] could not open file to read NUMA node: /sys/bus/pci/devices/0000:01:00.0/numa_node\n",
            "Your kernel may have been built without NUMA support.\n",
            "2023-12-30 12:18:46.707387: I external/local_xla/xla/stream_executor/cuda/cuda_executor.cc:887] could not open file to read NUMA node: /sys/bus/pci/devices/0000:04:00.0/numa_node\n",
            "Your kernel may have been built without NUMA support.\n",
            "2023-12-30 12:18:48.040306: I external/local_xla/xla/stream_executor/cuda/cuda_executor.cc:887] could not open file to read NUMA node: /sys/bus/pci/devices/0000:01:00.0/numa_node\n",
            "Your kernel may have been built without NUMA support.\n",
            "2023-12-30 12:18:48.040343: I external/local_xla/xla/stream_executor/cuda/cuda_executor.cc:887] could not open file to read NUMA node: /sys/bus/pci/devices/0000:04:00.0/numa_node\n",
            "Your kernel may have been built without NUMA support.\n",
            "2023-12-30 12:18:48.040365: I external/local_xla/xla/stream_executor/cuda/cuda_executor.cc:887] could not open file to read NUMA node: /sys/bus/pci/devices/0000:01:00.0/numa_node\n",
            "Your kernel may have been built without NUMA support.\n",
            "2023-12-30 12:18:48.040385: I external/local_xla/xla/stream_executor/cuda/cuda_executor.cc:887] could not open file to read NUMA node: /sys/bus/pci/devices/0000:04:00.0/numa_node\n",
            "Your kernel may have been built without NUMA support.\n",
            "2023-12-30 12:18:48.596433: I external/local_xla/xla/stream_executor/cuda/cuda_executor.cc:887] could not open file to read NUMA node: /sys/bus/pci/devices/0000:01:00.0/numa_node\n",
            "Your kernel may have been built without NUMA support.\n",
            "2023-12-30 12:18:48.596488: I external/local_xla/xla/stream_executor/cuda/cuda_executor.cc:887] could not open file to read NUMA node: /sys/bus/pci/devices/0000:04:00.0/numa_node\n",
            "Your kernel may have been built without NUMA support.\n",
            "2023-12-30 12:18:48.596513: I external/local_xla/xla/stream_executor/cuda/cuda_executor.cc:887] could not open file to read NUMA node: /sys/bus/pci/devices/0000:01:00.0/numa_node\n",
            "Your kernel may have been built without NUMA support.\n",
            "2023-12-30 12:18:48.596534: I external/local_xla/xla/stream_executor/cuda/cuda_executor.cc:887] could not open file to read NUMA node: /sys/bus/pci/devices/0000:04:00.0/numa_node\n",
            "Your kernel may have been built without NUMA support.\n",
            "2023-12-30 12:18:48.596553: I external/local_xla/xla/stream_executor/cuda/cuda_executor.cc:887] could not open file to read NUMA node: /sys/bus/pci/devices/0000:01:00.0/numa_node\n",
            "Your kernel may have been built without NUMA support.\n",
            "2023-12-30 12:18:48.596573: I external/local_xla/xla/stream_executor/cuda/cuda_executor.cc:887] could not open file to read NUMA node: /sys/bus/pci/devices/0000:04:00.0/numa_node\n",
            "Your kernel may have been built without NUMA support.\n",
            "2023-12-30 12:18:52.809672: I external/local_xla/xla/stream_executor/cuda/cuda_executor.cc:887] could not open file to read NUMA node: /sys/bus/pci/devices/0000:01:00.0/numa_node\n",
            "Your kernel may have been built without NUMA support.\n",
            "2023-12-30 12:18:52.809911: I external/local_xla/xla/stream_executor/cuda/cuda_executor.cc:887] could not open file to read NUMA node: /sys/bus/pci/devices/0000:04:00.0/numa_node\n",
            "Your kernel may have been built without NUMA support.\n",
            "2023-12-30 12:18:52.809946: I external/local_xla/xla/stream_executor/cuda/cuda_executor.cc:887] could not open file to read NUMA node: /sys/bus/pci/devices/0000:01:00.0/numa_node\n",
            "Your kernel may have been built without NUMA support.\n",
            "2023-12-30 12:18:52.809953: I tensorflow/core/common_runtime/gpu/gpu_device.cc:2022] Could not identify NUMA node of platform GPU id 0, defaulting to 0.  Your kernel may not have been built with NUMA support.\n",
            "2023-12-30 12:18:52.809974: I external/local_xla/xla/stream_executor/cuda/cuda_executor.cc:887] could not open file to read NUMA node: /sys/bus/pci/devices/0000:04:00.0/numa_node\n",
            "Your kernel may have been built without NUMA support.\n",
            "2023-12-30 12:18:52.809979: I tensorflow/core/common_runtime/gpu/gpu_device.cc:2022] Could not identify NUMA node of platform GPU id 1, defaulting to 0.  Your kernel may not have been built with NUMA support.\n",
            "2023-12-30 12:18:52.810014: I external/local_xla/xla/stream_executor/cuda/cuda_executor.cc:887] could not open file to read NUMA node: /sys/bus/pci/devices/0000:01:00.0/numa_node\n",
            "Your kernel may have been built without NUMA support.\n",
            "2023-12-30 12:18:52.810027: I tensorflow/core/common_runtime/gpu/gpu_device.cc:1929] Created device /job:localhost/replica:0/task:0/device:GPU:0 with 9537 MB memory:  -> device: 0, name: NVIDIA GeForce RTX 3060, pci bus id: 0000:01:00.0, compute capability: 8.6\n",
            "2023-12-30 12:18:52.810391: I external/local_xla/xla/stream_executor/cuda/cuda_executor.cc:887] could not open file to read NUMA node: /sys/bus/pci/devices/0000:04:00.0/numa_node\n",
            "Your kernel may have been built without NUMA support.\n",
            "2023-12-30 12:18:52.810406: I tensorflow/core/common_runtime/gpu/gpu_device.cc:1929] Created device /job:localhost/replica:0/task:0/device:GPU:1 with 9537 MB memory:  -> device: 1, name: NVIDIA GeForce RTX 3060, pci bus id: 0000:04:00.0, compute capability: 8.6\n"
          ]
        },
        {
          "name": "stdout",
          "output_type": "stream",
          "text": [
            "Model: \"sequential\"\n",
            "_________________________________________________________________\n",
            " Layer (type)                Output Shape              Param #   \n",
            "=================================================================\n",
            " dense (Dense)               (None, 1)                 2         \n",
            "                                                                 \n",
            "=================================================================\n",
            "Total params: 2 (8.00 Byte)\n",
            "Trainable params: 2 (8.00 Byte)\n",
            "Non-trainable params: 0 (0.00 Byte)\n",
            "_________________________________________________________________\n"
          ]
        }
      ],
      "source": [
        "model = K.Sequential([\n",
        "                      #normalizer,\n",
        "                      Dense(1, input_shape = [1,], activation=None)\n",
        "])\n",
        "model.summary()"
      ]
    },
    {
      "cell_type": "code",
      "execution_count": 6,
      "metadata": {
        "id": "lPF_CS2qCNjI"
      },
      "outputs": [],
      "source": [
        "model.compile(loss='mean_squared_error', optimizer='sgd')"
      ]
    },
    {
      "cell_type": "code",
      "execution_count": 8,
      "metadata": {
        "colab": {
          "base_uri": "https://localhost:8080/"
        },
        "id": "AFVBcartVIrg",
        "outputId": "176133d4-76e7-4ef7-845b-e066c37713fc"
      },
      "outputs": [
        {
          "name": "stdout",
          "output_type": "stream",
          "text": [
            "Epoch 1/100\n"
          ]
        },
        {
          "name": "stderr",
          "output_type": "stream",
          "text": [
            "2023-12-30 12:25:30.885287: I external/local_tsl/tsl/platform/default/subprocess.cc:304] Start cannot spawn child process: No such file or directory\n",
            "2023-12-30 12:25:31.687089: I external/local_xla/xla/service/service.cc:168] XLA service 0x7f283ebc04d0 initialized for platform CUDA (this does not guarantee that XLA will be used). Devices:\n",
            "2023-12-30 12:25:31.687161: I external/local_xla/xla/service/service.cc:176]   StreamExecutor device (0): NVIDIA GeForce RTX 3060, Compute Capability 8.6\n",
            "2023-12-30 12:25:31.687168: I external/local_xla/xla/service/service.cc:176]   StreamExecutor device (1): NVIDIA GeForce RTX 3060, Compute Capability 8.6\n"
          ]
        },
        {
          "name": "stdout",
          "output_type": "stream",
          "text": [
            "1/3 [=========>....................] - ETA: 23s - loss: 0.0189"
          ]
        },
        {
          "name": "stderr",
          "output_type": "stream",
          "text": [
            "2023-12-30 12:25:32.926096: I external/local_xla/xla/stream_executor/cuda/cuda_dnn.cc:454] Loaded cuDNN version 8904\n",
            "WARNING: All log messages before absl::InitializeLog() is called are written to STDERR\n",
            "I0000 00:00:1703957133.074795   11858 device_compiler.h:186] Compiled cluster using XLA!  This line is logged at most once for the lifetime of the process.\n"
          ]
        },
        {
          "name": "stdout",
          "output_type": "stream",
          "text": [
            "3/3 [==============================] - 12s 64ms/step - loss: 0.0187 - val_loss: 0.0185\n",
            "Epoch 2/100\n",
            "3/3 [==============================] - 0s 16ms/step - loss: 0.0166 - val_loss: 0.0163\n",
            "Epoch 3/100\n",
            "3/3 [==============================] - 0s 14ms/step - loss: 0.0148 - val_loss: 0.0144\n",
            "Epoch 4/100\n",
            "3/3 [==============================] - 0s 15ms/step - loss: 0.0132 - val_loss: 0.0128\n",
            "Epoch 5/100\n",
            "3/3 [==============================] - 0s 16ms/step - loss: 0.0118 - val_loss: 0.0114\n",
            "Epoch 6/100\n",
            "3/3 [==============================] - 0s 19ms/step - loss: 0.0107 - val_loss: 0.0102\n",
            "Epoch 7/100\n",
            "3/3 [==============================] - 0s 13ms/step - loss: 0.0097 - val_loss: 0.0092\n",
            "Epoch 8/100\n",
            "3/3 [==============================] - 0s 14ms/step - loss: 0.0088 - val_loss: 0.0083\n",
            "Epoch 9/100\n",
            "3/3 [==============================] - 0s 16ms/step - loss: 0.0081 - val_loss: 0.0076\n",
            "Epoch 10/100\n",
            "3/3 [==============================] - 0s 16ms/step - loss: 0.0075 - val_loss: 0.0069\n",
            "Epoch 11/100\n",
            "3/3 [==============================] - 0s 15ms/step - loss: 0.0070 - val_loss: 0.0064\n",
            "Epoch 12/100\n",
            "3/3 [==============================] - 0s 15ms/step - loss: 0.0065 - val_loss: 0.0059\n",
            "Epoch 13/100\n",
            "3/3 [==============================] - 0s 16ms/step - loss: 0.0061 - val_loss: 0.0055\n",
            "Epoch 14/100\n",
            "3/3 [==============================] - 0s 15ms/step - loss: 0.0058 - val_loss: 0.0051\n",
            "Epoch 15/100\n",
            "3/3 [==============================] - 0s 16ms/step - loss: 0.0055 - val_loss: 0.0048\n",
            "Epoch 16/100\n",
            "3/3 [==============================] - 0s 13ms/step - loss: 0.0052 - val_loss: 0.0045\n",
            "Epoch 17/100\n",
            "3/3 [==============================] - 0s 15ms/step - loss: 0.0050 - val_loss: 0.0043\n",
            "Epoch 18/100\n",
            "3/3 [==============================] - 0s 16ms/step - loss: 0.0048 - val_loss: 0.0040\n",
            "Epoch 19/100\n",
            "3/3 [==============================] - 0s 15ms/step - loss: 0.0046 - val_loss: 0.0039\n",
            "Epoch 20/100\n",
            "3/3 [==============================] - 0s 15ms/step - loss: 0.0045 - val_loss: 0.0037\n",
            "Epoch 21/100\n",
            "3/3 [==============================] - 0s 16ms/step - loss: 0.0044 - val_loss: 0.0036\n",
            "Epoch 22/100\n",
            "3/3 [==============================] - 0s 16ms/step - loss: 0.0043 - val_loss: 0.0035\n",
            "Epoch 23/100\n",
            "3/3 [==============================] - 0s 16ms/step - loss: 0.0042 - val_loss: 0.0034\n",
            "Epoch 24/100\n",
            "3/3 [==============================] - 0s 14ms/step - loss: 0.0041 - val_loss: 0.0033\n",
            "Epoch 25/100\n",
            "3/3 [==============================] - 0s 15ms/step - loss: 0.0040 - val_loss: 0.0032\n",
            "Epoch 26/100\n",
            "3/3 [==============================] - 0s 16ms/step - loss: 0.0040 - val_loss: 0.0031\n",
            "Epoch 27/100\n",
            "3/3 [==============================] - 0s 16ms/step - loss: 0.0039 - val_loss: 0.0031\n",
            "Epoch 28/100\n",
            "3/3 [==============================] - 0s 15ms/step - loss: 0.0039 - val_loss: 0.0030\n",
            "Epoch 29/100\n",
            "3/3 [==============================] - 0s 15ms/step - loss: 0.0038 - val_loss: 0.0030\n",
            "Epoch 30/100\n",
            "3/3 [==============================] - 0s 16ms/step - loss: 0.0038 - val_loss: 0.0029\n",
            "Epoch 31/100\n",
            "3/3 [==============================] - 0s 15ms/step - loss: 0.0038 - val_loss: 0.0029\n",
            "Epoch 32/100\n",
            "3/3 [==============================] - 0s 19ms/step - loss: 0.0037 - val_loss: 0.0028\n",
            "Epoch 33/100\n",
            "3/3 [==============================] - 0s 16ms/step - loss: 0.0037 - val_loss: 0.0028\n",
            "Epoch 34/100\n",
            "3/3 [==============================] - 0s 16ms/step - loss: 0.0037 - val_loss: 0.0028\n",
            "Epoch 35/100\n",
            "3/3 [==============================] - 0s 16ms/step - loss: 0.0037 - val_loss: 0.0028\n",
            "Epoch 36/100\n",
            "3/3 [==============================] - 0s 15ms/step - loss: 0.0036 - val_loss: 0.0027\n",
            "Epoch 37/100\n",
            "3/3 [==============================] - 0s 17ms/step - loss: 0.0036 - val_loss: 0.0027\n",
            "Epoch 38/100\n",
            "3/3 [==============================] - 0s 15ms/step - loss: 0.0036 - val_loss: 0.0027\n",
            "Epoch 39/100\n",
            "3/3 [==============================] - 0s 15ms/step - loss: 0.0036 - val_loss: 0.0027\n",
            "Epoch 40/100\n",
            "3/3 [==============================] - 0s 15ms/step - loss: 0.0036 - val_loss: 0.0027\n",
            "Epoch 41/100\n",
            "3/3 [==============================] - 0s 16ms/step - loss: 0.0036 - val_loss: 0.0027\n",
            "Epoch 42/100\n",
            "3/3 [==============================] - 0s 14ms/step - loss: 0.0035 - val_loss: 0.0026\n",
            "Epoch 43/100\n",
            "3/3 [==============================] - 0s 15ms/step - loss: 0.0035 - val_loss: 0.0026\n",
            "Epoch 44/100\n",
            "3/3 [==============================] - 0s 17ms/step - loss: 0.0035 - val_loss: 0.0026\n",
            "Epoch 45/100\n",
            "3/3 [==============================] - 0s 17ms/step - loss: 0.0035 - val_loss: 0.0026\n",
            "Epoch 46/100\n",
            "3/3 [==============================] - 0s 17ms/step - loss: 0.0035 - val_loss: 0.0026\n",
            "Epoch 47/100\n",
            "3/3 [==============================] - 0s 16ms/step - loss: 0.0035 - val_loss: 0.0026\n",
            "Epoch 48/100\n",
            "3/3 [==============================] - 0s 16ms/step - loss: 0.0035 - val_loss: 0.0026\n",
            "Epoch 49/100\n",
            "3/3 [==============================] - 0s 14ms/step - loss: 0.0034 - val_loss: 0.0026\n",
            "Epoch 50/100\n",
            "3/3 [==============================] - 0s 15ms/step - loss: 0.0034 - val_loss: 0.0025\n",
            "Epoch 51/100\n",
            "3/3 [==============================] - 0s 17ms/step - loss: 0.0034 - val_loss: 0.0025\n",
            "Epoch 52/100\n",
            "3/3 [==============================] - 0s 15ms/step - loss: 0.0034 - val_loss: 0.0025\n",
            "Epoch 53/100\n",
            "3/3 [==============================] - 0s 15ms/step - loss: 0.0034 - val_loss: 0.0025\n",
            "Epoch 54/100\n",
            "3/3 [==============================] - 0s 15ms/step - loss: 0.0034 - val_loss: 0.0025\n",
            "Epoch 55/100\n",
            "3/3 [==============================] - 0s 23ms/step - loss: 0.0034 - val_loss: 0.0025\n",
            "Epoch 56/100\n",
            "3/3 [==============================] - 0s 16ms/step - loss: 0.0034 - val_loss: 0.0025\n",
            "Epoch 57/100\n",
            "3/3 [==============================] - 0s 18ms/step - loss: 0.0034 - val_loss: 0.0025\n",
            "Epoch 58/100\n",
            "3/3 [==============================] - 0s 15ms/step - loss: 0.0033 - val_loss: 0.0025\n",
            "Epoch 59/100\n",
            "3/3 [==============================] - 0s 17ms/step - loss: 0.0033 - val_loss: 0.0025\n",
            "Epoch 60/100\n",
            "3/3 [==============================] - 0s 18ms/step - loss: 0.0033 - val_loss: 0.0025\n",
            "Epoch 61/100\n",
            "3/3 [==============================] - 0s 18ms/step - loss: 0.0033 - val_loss: 0.0024\n",
            "Epoch 62/100\n",
            "3/3 [==============================] - 0s 25ms/step - loss: 0.0033 - val_loss: 0.0024\n",
            "Epoch 63/100\n",
            "3/3 [==============================] - 0s 21ms/step - loss: 0.0033 - val_loss: 0.0024\n",
            "Epoch 64/100\n",
            "3/3 [==============================] - 0s 16ms/step - loss: 0.0033 - val_loss: 0.0024\n",
            "Epoch 65/100\n",
            "3/3 [==============================] - 0s 17ms/step - loss: 0.0033 - val_loss: 0.0024\n",
            "Epoch 66/100\n",
            "3/3 [==============================] - 0s 15ms/step - loss: 0.0033 - val_loss: 0.0024\n",
            "Epoch 67/100\n",
            "3/3 [==============================] - 0s 18ms/step - loss: 0.0033 - val_loss: 0.0024\n",
            "Epoch 68/100\n",
            "3/3 [==============================] - 0s 15ms/step - loss: 0.0033 - val_loss: 0.0024\n",
            "Epoch 69/100\n",
            "3/3 [==============================] - 0s 17ms/step - loss: 0.0032 - val_loss: 0.0024\n",
            "Epoch 70/100\n",
            "3/3 [==============================] - 0s 16ms/step - loss: 0.0032 - val_loss: 0.0024\n",
            "Epoch 71/100\n",
            "3/3 [==============================] - 0s 17ms/step - loss: 0.0032 - val_loss: 0.0024\n",
            "Epoch 72/100\n",
            "3/3 [==============================] - 0s 17ms/step - loss: 0.0032 - val_loss: 0.0024\n",
            "Epoch 73/100\n",
            "3/3 [==============================] - 0s 18ms/step - loss: 0.0032 - val_loss: 0.0024\n",
            "Epoch 74/100\n",
            "3/3 [==============================] - 0s 18ms/step - loss: 0.0032 - val_loss: 0.0024\n",
            "Epoch 75/100\n",
            "3/3 [==============================] - 0s 15ms/step - loss: 0.0032 - val_loss: 0.0023\n",
            "Epoch 76/100\n",
            "3/3 [==============================] - 0s 19ms/step - loss: 0.0032 - val_loss: 0.0023\n",
            "Epoch 77/100\n",
            "3/3 [==============================] - 0s 16ms/step - loss: 0.0032 - val_loss: 0.0023\n",
            "Epoch 78/100\n",
            "3/3 [==============================] - 0s 16ms/step - loss: 0.0032 - val_loss: 0.0023\n",
            "Epoch 79/100\n",
            "3/3 [==============================] - 0s 19ms/step - loss: 0.0031 - val_loss: 0.0023\n",
            "Epoch 80/100\n",
            "3/3 [==============================] - 0s 18ms/step - loss: 0.0031 - val_loss: 0.0023\n",
            "Epoch 81/100\n",
            "3/3 [==============================] - 0s 18ms/step - loss: 0.0031 - val_loss: 0.0023\n",
            "Epoch 82/100\n",
            "3/3 [==============================] - 0s 18ms/step - loss: 0.0031 - val_loss: 0.0023\n",
            "Epoch 83/100\n",
            "3/3 [==============================] - 0s 14ms/step - loss: 0.0031 - val_loss: 0.0023\n",
            "Epoch 84/100\n",
            "3/3 [==============================] - 0s 19ms/step - loss: 0.0031 - val_loss: 0.0023\n",
            "Epoch 85/100\n",
            "3/3 [==============================] - 0s 18ms/step - loss: 0.0031 - val_loss: 0.0023\n",
            "Epoch 86/100\n",
            "3/3 [==============================] - 0s 18ms/step - loss: 0.0031 - val_loss: 0.0023\n",
            "Epoch 87/100\n",
            "3/3 [==============================] - 0s 18ms/step - loss: 0.0031 - val_loss: 0.0023\n",
            "Epoch 88/100\n",
            "3/3 [==============================] - 0s 17ms/step - loss: 0.0031 - val_loss: 0.0023\n",
            "Epoch 89/100\n",
            "3/3 [==============================] - 0s 15ms/step - loss: 0.0031 - val_loss: 0.0022\n",
            "Epoch 90/100\n",
            "3/3 [==============================] - 0s 18ms/step - loss: 0.0030 - val_loss: 0.0022\n",
            "Epoch 91/100\n",
            "3/3 [==============================] - 0s 19ms/step - loss: 0.0030 - val_loss: 0.0022\n",
            "Epoch 92/100\n",
            "3/3 [==============================] - 0s 16ms/step - loss: 0.0030 - val_loss: 0.0022\n",
            "Epoch 93/100\n",
            "3/3 [==============================] - 0s 19ms/step - loss: 0.0030 - val_loss: 0.0022\n",
            "Epoch 94/100\n",
            "3/3 [==============================] - 0s 18ms/step - loss: 0.0030 - val_loss: 0.0022\n",
            "Epoch 95/100\n",
            "3/3 [==============================] - 0s 17ms/step - loss: 0.0030 - val_loss: 0.0022\n",
            "Epoch 96/100\n",
            "3/3 [==============================] - 0s 17ms/step - loss: 0.0030 - val_loss: 0.0022\n",
            "Epoch 97/100\n",
            "3/3 [==============================] - 0s 15ms/step - loss: 0.0030 - val_loss: 0.0022\n",
            "Epoch 98/100\n",
            "3/3 [==============================] - 0s 18ms/step - loss: 0.0030 - val_loss: 0.0022\n",
            "Epoch 99/100\n",
            "3/3 [==============================] - 0s 14ms/step - loss: 0.0030 - val_loss: 0.0022\n",
            "Epoch 100/100\n",
            "3/3 [==============================] - 0s 18ms/step - loss: 0.0030 - val_loss: 0.0022\n"
          ]
        },
        {
          "data": {
            "text/plain": [
              "<keras.src.callbacks.History at 0x7f2a001869b0>"
            ]
          },
          "execution_count": 8,
          "metadata": {},
          "output_type": "execute_result"
        }
      ],
      "source": [
        "\n",
        "\n",
        "\n",
        "model.fit(x=data['area'].values,y=data['price'].values, \n",
        "          epochs=100, \n",
        "          batch_size=32, \n",
        "          verbose=1, \n",
        "          validation_split=0.2)"
      ]
    },
    {
      "cell_type": "code",
      "execution_count": 9,
      "metadata": {
        "id": "jE2w6574Y0pD"
      },
      "outputs": [
        {
          "name": "stdout",
          "output_type": "stream",
          "text": [
            "WARNING:tensorflow:Keras is training/fitting/evaluating on array-like data. Keras may not be optimized for this format, so if your input data format is supported by TensorFlow I/O (https://github.com/tensorflow/io) we recommend using that to load a Dataset instead.\n",
            "4/4 [==============================] - 0s 3ms/step\n"
          ]
        }
      ],
      "source": [
        "y_pred = model.predict(data['area'])"
      ]
    },
    {
      "cell_type": "code",
      "execution_count": 10,
      "metadata": {
        "colab": {
          "base_uri": "https://localhost:8080/",
          "height": 296
        },
        "id": "LDFVIsvYCRS4",
        "outputId": "c4501262-c8aa-4a9e-a659-87c34e2c09ad"
      },
      "outputs": [
        {
          "data": {
            "text/plain": [
              "<matplotlib.legend.Legend at 0x7f29941930a0>"
            ]
          },
          "execution_count": 10,
          "metadata": {},
          "output_type": "execute_result"
        },
        {
          "data": {
            "image/png": "[encoded data removed]",
            "text/plain": [
              "<Figure size 640x480 with 1 Axes>"
            ]
          },
          "metadata": {},
          "output_type": "display_data"
        }
      ],
      "source": [
        "plt.plot(data['area'], y_pred, color='red',label=\"Predicted Price\")\n",
        "plt.scatter(data['area'], data['price'], label=\"Training Data\")\n",
        "plt.xlabel(\"Area\")\n",
        "plt.ylabel(\"Price\")\n",
        "plt.legend()"
      ]
    },
    {
      "cell_type": "code",
      "execution_count": 11,
      "metadata": {
        "colab": {
          "base_uri": "https://localhost:8080/"
        },
        "id": "bN433O3bCVmH",
        "outputId": "1d68aebf-11f7-4c22-f056-df9918f7762c"
      },
      "outputs": [
        {
          "data": {
            "text/plain": [
              "[<tf.Variable 'dense/kernel:0' shape=(1, 1) dtype=float32, numpy=array([[0.7976859]], dtype=float32)>,\n",
              " <tf.Variable 'dense/bias:0' shape=(1,) dtype=float32, numpy=array([0.06964868], dtype=float32)>]"
            ]
          },
          "execution_count": 11,
          "metadata": {},
          "output_type": "execute_result"
        }
      ],
      "source": [
        "model.weights"
      ]
    },
    {
      "cell_type": "code",
      "execution_count": 12,
      "metadata": {
        "id": "nb22K749kzVK"
      },
      "outputs": [
        {
          "data": {
            "text/plain": [
              "array([[0.783691  ],\n",
              "       [0.55810165],\n",
              "       [0.6537994 ],\n",
              "       [0.8625609 ],\n",
              "       [0.800811  ],\n",
              "       [0.33027273],\n",
              "       [0.6490607 ],\n",
              "       [0.4668807 ],\n",
              "       [0.47484282],\n",
              "       [0.55982864],\n",
              "       [0.5157402 ],\n",
              "       [0.73245335],\n",
              "       [0.6177916 ],\n",
              "       [0.51204044],\n",
              "       [0.5653306 ],\n",
              "       [0.5471053 ],\n",
              "       [0.7390373 ],\n",
              "       [0.45798194],\n",
              "       [0.54369694],\n",
              "       [0.35064718],\n",
              "       [0.06964868],\n",
              "       [0.60002434],\n",
              "       [0.6348938 ],\n",
              "       [0.3691606 ],\n",
              "       [0.8673346 ],\n",
              "       [0.25136203],\n",
              "       [0.4994838 ],\n",
              "       [0.46095493],\n",
              "       [0.7454382 ],\n",
              "       [0.73494846],\n",
              "       [0.51754373],\n",
              "       [0.5544637 ],\n",
              "       [0.3450748 ],\n",
              "       [0.16428994],\n",
              "       [0.43437037],\n",
              "       [0.51777554],\n",
              "       [0.69540644],\n",
              "       [0.69078994],\n",
              "       [0.42785114],\n",
              "       [0.4419142 ],\n",
              "       [0.31848377],\n",
              "       [0.25704318],\n",
              "       [0.2096968 ],\n",
              "       [0.8145752 ],\n",
              "       [0.4076184 ],\n",
              "       [0.41945747],\n",
              "       [0.2847019 ],\n",
              "       [0.6205129 ],\n",
              "       [0.22497527],\n",
              "       [0.4567279 ],\n",
              "       [0.34380442],\n",
              "       [0.55590934],\n",
              "       [0.4074277 ],\n",
              "       [0.29663777],\n",
              "       [0.48725393],\n",
              "       [0.5627618 ],\n",
              "       [0.5029173 ],\n",
              "       [0.5419444 ],\n",
              "       [0.3869979 ],\n",
              "       [0.4319176 ],\n",
              "       [0.3806898 ],\n",
              "       [0.43244493],\n",
              "       [0.35742024],\n",
              "       [0.20638674],\n",
              "       [0.52126175],\n",
              "       [0.4254604 ],\n",
              "       [0.22227916],\n",
              "       [0.56845987],\n",
              "       [0.3418474 ],\n",
              "       [0.5005071 ],\n",
              "       [0.6125075 ],\n",
              "       [0.51324916],\n",
              "       [0.68037313],\n",
              "       [0.2876741 ],\n",
              "       [0.558463  ],\n",
              "       [0.37864715],\n",
              "       [0.34788474],\n",
              "       [0.3961731 ],\n",
              "       [0.44038427],\n",
              "       [0.5012051 ],\n",
              "       [0.29919857],\n",
              "       [0.6409128 ],\n",
              "       [0.5689362 ],\n",
              "       [0.23781933],\n",
              "       [0.73807347],\n",
              "       [0.80549693],\n",
              "       [0.6868864 ],\n",
              "       [0.4621556 ],\n",
              "       [0.31481194],\n",
              "       [0.66632247],\n",
              "       [0.42522952],\n",
              "       [0.6941088 ],\n",
              "       [0.5263642 ],\n",
              "       [0.6534522 ],\n",
              "       [0.5508586 ],\n",
              "       [0.60878307],\n",
              "       [0.49365202],\n",
              "       [0.7872998 ],\n",
              "       [0.5129067 ],\n",
              "       [0.5584047 ]], dtype=float32)"
            ]
          },
          "execution_count": 12,
          "metadata": {},
          "output_type": "execute_result"
        }
      ],
      "source": [
        "y_pred"
      ]
    }
  ],
  "metadata": {
    "colab": {
      "collapsed_sections": [],
      "provenance": []
    },
    "kernelspec": {
      "display_name": "Python 3",
      "name": "python3"
    },
    "language_info": {
      "codemirror_mode": {
        "name": "ipython",
        "version": 3
      },
      "file_extension": ".py",
      "mimetype": "text/x-python",
      "name": "python",
      "nbconvert_exporter": "python",
      "pygments_lexer": "ipython3",
      "version": "3.10.12"
    }
  },
  "nbformat": 4,
  "nbformat_minor": 0
}
